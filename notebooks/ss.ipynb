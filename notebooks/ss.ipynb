{
 "cells": [
  {
   "cell_type": "code",
   "execution_count": 3,
   "id": "ffa65768",
   "metadata": {},
   "outputs": [],
   "source": [
    "import pandas as pd\n",
    "import sqlite3"
   ]
  },
  {
   "cell_type": "code",
   "execution_count": 7,
   "id": "462c1f3d",
   "metadata": {},
   "outputs": [],
   "source": [
    "df = pd.read_csv('../data/grossingPerCountry.csv')\n",
    "filtered_fd = df[df['Element'] == 'Gross Production Value (constant 2014-2016 thousand I$)']\n",
    "# filtered_fd.to_csv('../data/filtered_grossingPerCountry.csv', index=False)\n",
    "\n",
    "columns_to_drop = ['Domain Code', 'Domain', 'Area Code (M49)', 'Element Code', 'Item Code (CPC)', 'Item', 'Flag', 'Flag Description', 'Year Code']\n",
    "df_filtered = filtered_fd.drop(columns=columns_to_drop)\n",
    "df_filtered.head()\n",
    "df_filtered.to_csv('../data/lesscolsprices.csv', index = False)"
   ]
  },
  {
   "cell_type": "code",
   "execution_count": null,
   "id": "33a2e32d",
   "metadata": {},
   "outputs": [],
   "source": [
    "df = pd.read_csv('../data/a lot potato data.csv')\n",
    "\n",
    "columns_to_drop = ['Domain Code', 'Domain', 'Area Code (M49)', 'Element Code', 'Item Code (CPC)', 'Item', 'Flag', 'Flag Description', 'Year Code', 'Note']\n",
    "df = df.drop(columns=columns_to_drop)\n",
    "df.to_csv('../data/filtered.csv', index = False)\n"
   ]
  },
  {
   "cell_type": "code",
   "execution_count": null,
   "id": "88440d65",
   "metadata": {},
   "outputs": [],
   "source": [
    "df1 = pd.read_csv(\"../data/filtered.csv\")\n",
    "df2 = pd.read_csv(\"../data/Prices.csv\")\n",
    "\n",
    "df1['Metric'] = df1['Element'] + \" (\" + df1['Unit'] + \")\"\n",
    "df2['Metric'] = df2['Element'] + \" (\" + df2['Unit'] + \")\"\n",
    "\n",
    "df1_wide = df1.pivot_table(index=['Area', 'Year'], columns='Metric', values='Value').reset_index()\n",
    "df2_wide = df2.pivot_table(index=['Area', 'Year'], columns='Metric', values='Value').reset_index()\n",
    "\n",
    "# Merge both wide tables on Area and Year\n",
    "joined = pd.merge(df1_wide, df2_wide, on=['Area', 'Year'], how='inner')\n",
    "\n",
    "joined.to_csv(\"joined_output.csv\", index=False)"
   ]
  },
  {
   "cell_type": "code",
   "execution_count": 9,
   "id": "ef0559df",
   "metadata": {},
   "outputs": [
    {
     "data": {
      "text/plain": [
       "8763"
      ]
     },
     "execution_count": 9,
     "metadata": {},
     "output_type": "execute_result"
    }
   ],
   "source": [
    "conn = sqlite3.connect(\"../data/potato.db\")\n",
    "joined.to_sql(\"potato\", conn, if_exists='replace', index=False)"
   ]
  }
 ],
 "metadata": {
  "kernelspec": {
   "display_name": "base",
   "language": "python",
   "name": "python3"
  },
  "language_info": {
   "codemirror_mode": {
    "name": "ipython",
    "version": 3
   },
   "file_extension": ".py",
   "mimetype": "text/x-python",
   "name": "python",
   "nbconvert_exporter": "python",
   "pygments_lexer": "ipython3",
   "version": "3.11.4"
  }
 },
 "nbformat": 4,
 "nbformat_minor": 5
}
